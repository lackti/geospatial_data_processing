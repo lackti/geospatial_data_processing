{
 "cells": [
  {
   "cell_type": "code",
   "execution_count": 1,
   "metadata": {
    "id": "JyOdqyceAs0F"
   },
   "outputs": [],
   "source": [
    "import os\n",
    "import numpy as np\n",
    "import pandas as pd\n",
    "import geopandas as gpd"
   ]
  },
  {
   "cell_type": "code",
   "execution_count": 2,
   "metadata": {
    "id": "xUuSmx-ffzl_"
   },
   "outputs": [],
   "source": [
    "zone_software = {1:{'V_Low':2,  'D_Low':0.2, 'DV_Low':0.4,   'V_Tr':2,\t'D_Tr':0.5,\t'DV_Tr':1},\n",
    "                 2:{'V_Low':2,  'D_Low':0.1, 'DV_Low':0.2,   'V_Tr':2,\t'D_Tr':0.3,\t'DV_Tr':0.6},\n",
    "                 3:{'V_Low':2,  'D_Low':0.2, 'DV_Low':0.4,   'V_Tr':2,\t'D_Tr':0.5,\t'DV_Tr':1},\n",
    "                 4:{'V_Low':2,  'D_Low':0.3, 'DV_Low':0.6,   'V_Tr':2,\t'D_Tr':1,\t  'DV_Tr':2},\n",
    "                 5:{'V_Low':1,  'D_Low':1,   'DV_Low':1,     'V_Tr':0,\t'D_Tr':0,\t  'DV_Tr':0},\n",
    "                 6:{'V_Low':1,  'D_Low':1,   'DV_Low':1,     'V_Tr':0,\t'D_Tr':0,\t  'DV_Tr':0},\n",
    "                 7:{'V_Low':2,  'D_Low':0.5, 'DV_Low':0.6,   'V_Tr':2,\t'D_Tr':1.5,\t'DV_Tr':3},\n",
    "                 8:{'V_Low':0.5,'D_Low':0.05,'DV_Low':0.0025,'V_Tr':2,\t'D_Tr':0.2,\t'DV_Tr':0.4},\n",
    "                 9:{'V_Low':0.5,'D_Low':0.05,'DV_Low':0.0025,'V_Tr':2,\t'D_Tr':0.2,\t'DV_Tr':0.4}}"
   ]
  },
  {
   "cell_type": "markdown",
   "metadata": {
    "id": "omvNRnUBR2pO"
   },
   "source": [
    "# **Check the rasters times**  \n",
    "Store only the rasters that are the same time velosity and depth"
   ]
  },
  {
   "cell_type": "code",
   "execution_count": 3,
   "metadata": {
    "id": "CB-bLzx4RVm5"
   },
   "outputs": [],
   "source": [
    "# create the paths for velocity and depth directories\n",
    "v_path = r'data/Velocity/' # depth path\n",
    "d_path = r'data/Depth/' # velocity path\n",
    "d_tiffs = os.listdir(d_path)\n",
    "v_tiffs = os.listdir(v_path)"
   ]
  },
  {
   "cell_type": "code",
   "execution_count": 4,
   "metadata": {
    "colab": {
     "base_uri": "https://localhost:8080/"
    },
    "id": "ePMvEwCIUGRF",
    "outputId": "1d46ece9-a002-474e-a163-f1a73a2898d2"
   },
   "outputs": [
    {
     "name": "stdout",
     "output_type": "stream",
     "text": [
      "Time 0000 is not found in both Velocity and Depth folders\n",
      "Time 0410 is not found in both Velocity and Depth folders\n",
      "Time 0700 is not found in both Velocity and Depth folders\n",
      "Both ( D0800.tif ) and ( V0800.tif ) exists\n",
      "Both ( D1000.tif ) and ( V1000.tif ) exists\n",
      "Both ( D1400.tif ) and ( V1400.tif ) exists\n",
      "Time 1500 is not found in both Velocity and Depth folders\n"
     ]
    }
   ],
   "source": [
    "dict_rasters_and_time = {}\n",
    "# loop on rasters and check if the\n",
    "for i in range(len(d_tiffs)):\n",
    "    d_tiff = d_tiffs[i]\n",
    "    v_tiff = d_tiff.replace('D','V')\n",
    "    time = ''.join([s for s in v_tiff if s.isdigit()])\n",
    "    if v_tiff in v_tiffs:\n",
    "        dict_rasters_and_time[time] = (d_path+d_tiff,v_path+v_tiff)\n",
    "        print('Both (', d_tiff,') and (',v_tiff,') exists')\n",
    "    else:\n",
    "        print(f'Time {time} is not found in both Velocity and Depth folders')"
   ]
  },
  {
   "cell_type": "code",
   "execution_count": 5,
   "metadata": {
    "colab": {
     "base_uri": "https://localhost:8080/"
    },
    "id": "kjjEvw9xn8ob",
    "outputId": "6ce14b49-e16b-42bf-85bf-9aebee29e6eb"
   },
   "outputs": [
    {
     "data": {
      "text/plain": [
       "{'0800': ('data/Depth/D0800.tif', 'data/Velocity/V0800.tif'),\n",
       " '1000': ('data/Depth/D1000.tif', 'data/Velocity/V1000.tif'),\n",
       " '1400': ('data/Depth/D1400.tif', 'data/Velocity/V1400.tif')}"
      ]
     },
     "execution_count": 5,
     "metadata": {},
     "output_type": "execute_result"
    }
   ],
   "source": [
    "dict_rasters_and_time"
   ]
  },
  {
   "cell_type": "markdown",
   "metadata": {
    "id": "gnT1Fwfi0GtT"
   },
   "source": [
    "# **Read the shapefile into GeoDataframe**"
   ]
  },
  {
   "cell_type": "code",
   "execution_count": 6,
   "metadata": {
    "id": "epc4OxL40OnP"
   },
   "outputs": [],
   "source": [
    "# gdf (GeoDataFrame)\n",
    "shapefile_path = \"data/Shp/Points.shp\"\n",
    "gdf = gpd.read_file(shapefile_path)"
   ]
  },
  {
   "cell_type": "markdown",
   "metadata": {},
   "source": [
    "# Remove the null values of Zone_code"
   ]
  },
  {
   "cell_type": "code",
   "execution_count": 7,
   "metadata": {
    "id": "rdxFBLGwWC3Q"
   },
   "outputs": [],
   "source": [
    "gdf = gdf[~gdf.Zone_Code1.isna()]"
   ]
  },
  {
   "cell_type": "code",
   "execution_count": 8,
   "metadata": {},
   "outputs": [],
   "source": [
    "gdf = gdf.reset_index()"
   ]
  },
  {
   "cell_type": "markdown",
   "metadata": {
    "id": "5eu31BsU0pFm"
   },
   "source": [
    "# **Adding V_Low, D_Low, DV_Low, V_Tr, D_Tr, DV_Tr**"
   ]
  },
  {
   "cell_type": "code",
   "execution_count": 9,
   "metadata": {
    "colab": {
     "base_uri": "https://localhost:8080/"
    },
    "id": "WBoaJazU7otK",
    "outputId": "1ee2e9f5-120a-43fb-bacd-e8bfff46347b"
   },
   "outputs": [],
   "source": [
    "# convert the Zone_code column into int value like in the dict_rasters_and_time above\n",
    "gdf['Zone_Code1'] = gdf['Zone_Code1'].astype('int8')"
   ]
  },
  {
   "cell_type": "code",
   "execution_count": 10,
   "metadata": {
    "colab": {
     "base_uri": "https://localhost:8080/"
    },
    "id": "w7b45CyN2r8B",
    "outputId": "e0d82521-bf60-4b8c-c4ea-305cbd69cfc4"
   },
   "outputs": [],
   "source": [
    "zones = list(zone_software[1].keys())\n",
    "# loop through the zone names and add each value \n",
    "for zone in zones:\n",
    "    gdf[zone] = gdf['Zone_Code1'].apply(lambda x: zone_software[x][zone])"
   ]
  },
  {
   "cell_type": "markdown",
   "metadata": {
    "id": "PXfpyGvUWMKU"
   },
   "source": [
    "# **Function to retrive the pixel value from a raster in a specific long, lat**"
   ]
  },
  {
   "cell_type": "code",
   "execution_count": 11,
   "metadata": {
    "id": "m_SY6gEk75Pq"
   },
   "outputs": [],
   "source": [
    "from rasterstats import point_query"
   ]
  },
  {
   "cell_type": "code",
   "execution_count": 12,
   "metadata": {
    "id": "kaBBipJ8wuw7"
   },
   "outputs": [],
   "source": [
    "def pixel_value_from_coords(x, y, raster):\n",
    "    \"\"\"\n",
    "    Function to retive the pixel value in a raster\n",
    "    from a giving coordinates (lat, long)\n",
    "    xy(tuple): (latitude,longitude) - 2 floats\n",
    "    ratser(str): the raster path\n",
    "    \"\"\"\n",
    "    point = {'type': 'Point', 'coordinates': (x,y)}\n",
    "    return point_query(point, raster)[0]"
   ]
  },
  {
   "cell_type": "markdown",
   "metadata": {
    "id": "0OFYE4MN-pVZ"
   },
   "source": [
    "# **Function to calculate R value**"
   ]
  },
  {
   "cell_type": "code",
   "execution_count": 13,
   "metadata": {
    "id": "_1hf-KlPzB4r"
   },
   "outputs": [],
   "source": [
    "def calculate_r_value(DV_Low , DV_Tr, V_low, D_low, V_Tr, D_Tr, V_i, D_i, Water=False):\n",
    "    \"\"\"\n",
    "    This function calculates the value of R:\n",
    "    a lot of condictions make the R value changed\n",
    "    input:\n",
    "        V_low[float]: Velocity low value from the table\n",
    "        D_low[float]: Depth low value from the table\n",
    "        V_Tr[float]: Velocity TR value from the table\n",
    "        D_Tr[float]: Depth TR value from the table\n",
    "        V_i[float]: Velocity value from the raster of specific time \n",
    "        D_i[float]: Depth low value from the raster of specific time\n",
    "    \"\"\"\n",
    "    if Water :\n",
    "        if D_i < D_low or V_i < V_low:\n",
    "            R = 1\n",
    "        else: #D_i >= D_Tr or V_i >= V_Tr: \n",
    "            R = 0\n",
    "    else:\n",
    "        if D_i < D_low or V_i < V_low:\n",
    "            R = 1\n",
    "        elif D_i > D_Tr or V_i > V_Tr:\n",
    "            R = 0\n",
    "        else:\n",
    "            R = 1 - (DV_Tr-(D_i*V_i)/(DV_Tr-DV_Low))\n",
    "            print(R)\n",
    "    return R"
   ]
  },
  {
   "cell_type": "code",
   "execution_count": 14,
   "metadata": {
    "colab": {
     "base_uri": "https://localhost:8080/"
    },
    "id": "bZOCDITvqE1s",
    "outputId": "0962283f-b3f6-4400-f841-e5fcd9a8c47d"
   },
   "outputs": [
    {
     "data": {
      "text/plain": [
       "{'0800': ('data/Depth/D0800.tif', 'data/Velocity/V0800.tif'),\n",
       " '1000': ('data/Depth/D1000.tif', 'data/Velocity/V1000.tif'),\n",
       " '1400': ('data/Depth/D1400.tif', 'data/Velocity/V1400.tif')}"
      ]
     },
     "execution_count": 14,
     "metadata": {},
     "output_type": "execute_result"
    }
   ],
   "source": [
    "dict_rasters_and_time"
   ]
  },
  {
   "cell_type": "markdown",
   "metadata": {
    "id": "0FXs_GoC3XE_"
   },
   "source": [
    "# **Adding the values of Velocity, Depth , (Velocity x Depth)**  \n",
    "# **For each Time found**"
   ]
  },
  {
   "cell_type": "code",
   "execution_count": 15,
   "metadata": {},
   "outputs": [],
   "source": [
    "def split_dataframe(df, chunk_size = 100):\n",
    "    '''\n",
    "    Function to split the dataframe into chunks\n",
    "    '''\n",
    "    chunks = list()\n",
    "    num_chunks = len(df) // chunk_size + 1\n",
    "    for i in range(num_chunks):\n",
    "        chunks.append(df[i*chunk_size:(i+1)*chunk_size].index)\n",
    "    return chunks"
   ]
  },
  {
   "cell_type": "markdown",
   "metadata": {},
   "source": [
    "# Here you can choose the chunk size (in rows) \n",
    "# Its basically to split the dataframe into pieces to speed the job\n",
    "# You can change it as you want"
   ]
  },
  {
   "cell_type": "code",
   "execution_count": 16,
   "metadata": {},
   "outputs": [],
   "source": [
    "chunks = split_dataframe(gdf, chunk_size = 300)"
   ]
  },
  {
   "cell_type": "code",
   "execution_count": 17,
   "metadata": {},
   "outputs": [
    {
     "name": "stdout",
     "output_type": "stream",
     "text": [
      "RangeIndex(start=0, stop=300, step=1)\n",
      "RangeIndex(start=300, stop=600, step=1)\n",
      "RangeIndex(start=600, stop=900, step=1)\n",
      "RangeIndex(start=900, stop=1200, step=1)\n",
      "RangeIndex(start=1200, stop=1500, step=1)\n",
      "RangeIndex(start=1500, stop=1800, step=1)\n",
      "RangeIndex(start=1800, stop=2100, step=1)\n",
      "RangeIndex(start=2100, stop=2400, step=1)\n",
      "RangeIndex(start=2400, stop=2700, step=1)\n",
      "RangeIndex(start=2700, stop=3000, step=1)\n",
      "RangeIndex(start=3000, stop=3300, step=1)\n",
      "RangeIndex(start=3300, stop=3600, step=1)\n",
      "RangeIndex(start=3600, stop=3900, step=1)\n",
      "RangeIndex(start=3900, stop=4200, step=1)\n",
      "RangeIndex(start=4200, stop=4500, step=1)\n",
      "RangeIndex(start=4500, stop=4800, step=1)\n",
      "RangeIndex(start=4800, stop=5100, step=1)\n",
      "RangeIndex(start=5100, stop=5400, step=1)\n",
      "RangeIndex(start=5400, stop=5700, step=1)\n",
      "RangeIndex(start=5700, stop=6000, step=1)\n",
      "RangeIndex(start=6000, stop=6300, step=1)\n",
      "RangeIndex(start=6300, stop=6600, step=1)\n",
      "RangeIndex(start=6600, stop=6900, step=1)\n",
      "RangeIndex(start=6900, stop=7200, step=1)\n",
      "RangeIndex(start=7200, stop=7500, step=1)\n",
      "RangeIndex(start=7500, stop=7800, step=1)\n",
      "RangeIndex(start=7800, stop=8100, step=1)\n",
      "RangeIndex(start=8100, stop=8400, step=1)\n",
      "RangeIndex(start=8400, stop=8700, step=1)\n",
      "RangeIndex(start=8700, stop=9000, step=1)\n",
      "RangeIndex(start=9000, stop=9300, step=1)\n",
      "RangeIndex(start=9300, stop=9600, step=1)\n",
      "RangeIndex(start=9600, stop=9900, step=1)\n",
      "RangeIndex(start=9900, stop=10200, step=1)\n",
      "RangeIndex(start=10200, stop=10500, step=1)\n",
      "RangeIndex(start=10500, stop=10800, step=1)\n",
      "RangeIndex(start=10800, stop=11100, step=1)\n",
      "RangeIndex(start=11100, stop=11400, step=1)\n",
      "RangeIndex(start=11400, stop=11700, step=1)\n",
      "RangeIndex(start=11700, stop=12000, step=1)\n",
      "RangeIndex(start=12000, stop=12300, step=1)\n",
      "RangeIndex(start=12300, stop=12600, step=1)\n",
      "RangeIndex(start=12600, stop=12900, step=1)\n",
      "RangeIndex(start=12900, stop=13200, step=1)\n",
      "RangeIndex(start=13200, stop=13500, step=1)\n",
      "RangeIndex(start=13500, stop=13800, step=1)\n",
      "RangeIndex(start=13800, stop=14100, step=1)\n",
      "RangeIndex(start=14100, stop=14400, step=1)\n",
      "RangeIndex(start=14400, stop=14700, step=1)\n",
      "RangeIndex(start=14700, stop=15000, step=1)\n",
      "RangeIndex(start=15000, stop=15300, step=1)\n",
      "RangeIndex(start=15300, stop=15600, step=1)\n",
      "RangeIndex(start=15600, stop=15900, step=1)\n",
      "RangeIndex(start=15900, stop=16200, step=1)\n",
      "RangeIndex(start=16200, stop=16500, step=1)\n",
      "RangeIndex(start=16500, stop=16800, step=1)\n",
      "RangeIndex(start=16800, stop=17100, step=1)\n",
      "RangeIndex(start=17100, stop=17400, step=1)\n",
      "RangeIndex(start=17400, stop=17700, step=1)\n",
      "RangeIndex(start=17700, stop=18000, step=1)\n",
      "RangeIndex(start=18000, stop=18300, step=1)\n",
      "RangeIndex(start=18300, stop=18600, step=1)\n",
      "RangeIndex(start=18600, stop=18900, step=1)\n",
      "RangeIndex(start=18900, stop=19200, step=1)\n",
      "RangeIndex(start=19200, stop=19500, step=1)\n",
      "RangeIndex(start=19500, stop=19800, step=1)\n",
      "RangeIndex(start=19800, stop=20100, step=1)\n",
      "RangeIndex(start=20100, stop=20400, step=1)\n",
      "RangeIndex(start=20400, stop=20700, step=1)\n",
      "RangeIndex(start=20700, stop=21000, step=1)\n",
      "RangeIndex(start=21000, stop=21300, step=1)\n",
      "RangeIndex(start=21300, stop=21600, step=1)\n",
      "RangeIndex(start=21600, stop=21900, step=1)\n",
      "RangeIndex(start=21900, stop=22200, step=1)\n",
      "RangeIndex(start=22200, stop=22500, step=1)\n",
      "RangeIndex(start=22500, stop=22800, step=1)\n",
      "RangeIndex(start=22800, stop=23100, step=1)\n",
      "RangeIndex(start=23100, stop=23400, step=1)\n",
      "RangeIndex(start=23400, stop=23700, step=1)\n",
      "RangeIndex(start=23700, stop=24000, step=1)\n",
      "RangeIndex(start=24000, stop=24300, step=1)\n",
      "RangeIndex(start=24300, stop=24600, step=1)\n",
      "RangeIndex(start=24600, stop=24900, step=1)\n",
      "RangeIndex(start=24900, stop=25200, step=1)\n",
      "RangeIndex(start=25200, stop=25500, step=1)\n",
      "RangeIndex(start=25500, stop=25800, step=1)\n",
      "RangeIndex(start=25800, stop=26100, step=1)\n",
      "RangeIndex(start=26100, stop=26400, step=1)\n",
      "RangeIndex(start=26400, stop=26700, step=1)\n",
      "RangeIndex(start=26700, stop=27000, step=1)\n",
      "RangeIndex(start=27000, stop=27300, step=1)\n",
      "RangeIndex(start=27300, stop=27600, step=1)\n",
      "RangeIndex(start=27600, stop=27900, step=1)\n",
      "RangeIndex(start=27900, stop=28200, step=1)\n",
      "RangeIndex(start=28200, stop=28500, step=1)\n",
      "RangeIndex(start=28500, stop=28800, step=1)\n",
      "RangeIndex(start=28800, stop=29100, step=1)\n",
      "RangeIndex(start=29100, stop=29400, step=1)\n",
      "RangeIndex(start=29400, stop=29700, step=1)\n",
      "RangeIndex(start=29700, stop=30000, step=1)\n",
      "RangeIndex(start=30000, stop=30300, step=1)\n",
      "RangeIndex(start=30300, stop=30600, step=1)\n",
      "RangeIndex(start=30600, stop=30900, step=1)\n",
      "RangeIndex(start=30900, stop=31200, step=1)\n",
      "RangeIndex(start=31200, stop=31500, step=1)\n",
      "RangeIndex(start=31500, stop=31800, step=1)\n",
      "RangeIndex(start=31800, stop=32100, step=1)\n",
      "RangeIndex(start=32100, stop=32400, step=1)\n",
      "RangeIndex(start=32400, stop=32700, step=1)\n",
      "RangeIndex(start=32700, stop=33000, step=1)\n",
      "RangeIndex(start=33000, stop=33300, step=1)\n",
      "RangeIndex(start=33300, stop=33600, step=1)\n",
      "RangeIndex(start=33600, stop=33900, step=1)\n",
      "RangeIndex(start=33900, stop=34200, step=1)\n",
      "RangeIndex(start=34200, stop=34500, step=1)\n",
      "RangeIndex(start=34500, stop=34800, step=1)\n",
      "RangeIndex(start=34800, stop=35100, step=1)\n",
      "RangeIndex(start=35100, stop=35400, step=1)\n",
      "RangeIndex(start=35400, stop=35700, step=1)\n",
      "RangeIndex(start=35700, stop=36000, step=1)\n",
      "RangeIndex(start=36000, stop=36300, step=1)\n",
      "RangeIndex(start=36300, stop=36600, step=1)\n",
      "RangeIndex(start=36600, stop=36900, step=1)\n",
      "RangeIndex(start=36900, stop=37200, step=1)\n",
      "RangeIndex(start=37200, stop=37500, step=1)\n",
      "RangeIndex(start=37500, stop=37800, step=1)\n",
      "RangeIndex(start=37800, stop=38100, step=1)\n",
      "RangeIndex(start=38100, stop=38400, step=1)\n",
      "RangeIndex(start=38400, stop=38700, step=1)\n",
      "RangeIndex(start=38700, stop=39000, step=1)\n",
      "RangeIndex(start=39000, stop=39300, step=1)\n",
      "RangeIndex(start=39300, stop=39600, step=1)\n",
      "RangeIndex(start=39600, stop=39900, step=1)\n",
      "RangeIndex(start=39900, stop=40200, step=1)\n",
      "RangeIndex(start=40200, stop=40500, step=1)\n",
      "RangeIndex(start=40500, stop=40800, step=1)\n",
      "RangeIndex(start=40800, stop=41100, step=1)\n",
      "RangeIndex(start=41100, stop=41400, step=1)\n",
      "RangeIndex(start=41400, stop=41700, step=1)\n",
      "RangeIndex(start=41700, stop=42000, step=1)\n",
      "RangeIndex(start=42000, stop=42300, step=1)\n",
      "RangeIndex(start=42300, stop=42600, step=1)\n",
      "RangeIndex(start=42600, stop=42900, step=1)\n",
      "RangeIndex(start=42900, stop=43200, step=1)\n",
      "RangeIndex(start=43200, stop=43500, step=1)\n",
      "RangeIndex(start=43500, stop=43629, step=1)\n"
     ]
    }
   ],
   "source": [
    "# loop through chunks, and apply the function to the chunk\n",
    "for chunk in chunks:\n",
    "    for time in dict_rasters_and_time:\n",
    "        rasters = dict_rasters_and_time[time]\n",
    "        depth_raster = rasters[0]\n",
    "        velocity_raster = rasters[1]\n",
    "        gdf.loc[chunk, f'V_{time}'] = gdf.loc[chunk].apply(lambda x: (pixel_value_from_coords(x.x_coord,x.y_coord, velocity_raster)), axis=1)\n",
    "        gdf.loc[chunk, f'D_{time}'] = gdf.loc[chunk].apply(lambda x: (pixel_value_from_coords(x.x_coord,x.y_coord,depth_raster)), axis=1)\n",
    "    print(chunk)"
   ]
  },
  {
   "cell_type": "markdown",
   "metadata": {
    "id": "MWb4QwaV-G1b"
   },
   "source": [
    "# **Replace the null Values with 0**"
   ]
  },
  {
   "cell_type": "code",
   "execution_count": 19,
   "metadata": {
    "id": "iOEjr2cQ-PH-"
   },
   "outputs": [],
   "source": [
    "gdf = gdf.replace(np.nan, 0)"
   ]
  },
  {
   "cell_type": "code",
   "execution_count": 20,
   "metadata": {
    "id": "0FSUVugCDmYZ"
   },
   "outputs": [],
   "source": [
    "water_mask = gdf[gdf['Zone_Code1'].isin([5,6])]\n",
    "water_mask_inverse = gdf[~gdf['Zone_Code1'].isin([5,6])]"
   ]
  },
  {
   "cell_type": "markdown",
   "metadata": {
    "id": "d59iCnRy_9av"
   },
   "source": [
    "# **Calculate R Value**"
   ]
  },
  {
   "cell_type": "code",
   "execution_count": 22,
   "metadata": {
    "id": "N_62h4GA-hFz"
   },
   "outputs": [
    {
     "name": "stdout",
     "output_type": "stream",
     "text": [
      "R_0800 has been calculated\n",
      "R_1000 has been calculated\n",
      "R_1400 has been calculated\n"
     ]
    }
   ],
   "source": [
    "for time in dict_rasters_and_time:\n",
    "    # Calculate the R value\n",
    "    gdf.loc[water_mask.index, f'R_{time}'] = gdf.apply(lambda x: (calculate_r_value(x.DV_Low , x.DV_Tr, x.V_Low, x.D_Low, x.V_Tr, x.D_Tr, x[f'V_{time}'], x[f'D_{time}'], Water=True)), axis=1)\n",
    "    gdf.loc[water_mask_inverse.index, f'R_{time}'] = gdf.apply(lambda x: (calculate_r_value(x.DV_Low , x.DV_Tr, x.V_Low, x.D_Low, x.V_Tr, x.D_Tr, x[f'V_{time}'], x[f'D_{time}'])), axis=1)\n",
    "    print(f'R_{time} has been calculated')"
   ]
  },
  {
   "cell_type": "code",
   "execution_count": 27,
   "metadata": {
    "id": "X_g1j1HbLUZk"
   },
   "outputs": [],
   "source": [
    "output_file_name = 'output.shp'\n",
    "gdf.to_file(filename=output_file_name)"
   ]
  },
  {
   "cell_type": "markdown",
   "metadata": {
    "id": "GiEsqlm1FsTz"
   },
   "source": [
    "# **Export the shapefile as CSV**"
   ]
  },
  {
   "cell_type": "code",
   "execution_count": 25,
   "metadata": {
    "id": "BcKewtg6NTgN"
   },
   "outputs": [],
   "source": [
    "csv_file_name = 'output.csv'\n",
    "gdf.to_csv(csv_file_name, index=False)"
   ]
  },
  {
   "cell_type": "code",
   "execution_count": null,
   "metadata": {},
   "outputs": [],
   "source": []
  }
 ],
 "metadata": {
  "colab": {
   "collapsed_sections": [],
   "name": "Geo Data processing .ipynb",
   "provenance": []
  },
  "kernelspec": {
   "display_name": "Python 3 (ipykernel)",
   "language": "python",
   "name": "python3"
  },
  "language_info": {
   "codemirror_mode": {
    "name": "ipython",
    "version": 3
   },
   "file_extension": ".py",
   "mimetype": "text/x-python",
   "name": "python",
   "nbconvert_exporter": "python",
   "pygments_lexer": "ipython3",
   "version": "3.9.12"
  }
 },
 "nbformat": 4,
 "nbformat_minor": 1
}
